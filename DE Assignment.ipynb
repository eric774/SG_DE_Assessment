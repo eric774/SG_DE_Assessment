{
 "cells": [
  {
   "cell_type": "markdown",
   "metadata": {
    "application/vnd.databricks.v1+cell": {
     "cellMetadata": {},
     "inputWidgets": {},
     "nuid": "9703df16-4d12-45a5-bf7b-b5c18963d3c6",
     "showTitle": false,
     "tableResultSettingsMap": {},
     "title": ""
    }
   },
   "source": [
    "### Loading Datasets"
   ]
  },
  {
   "cell_type": "code",
   "execution_count": 0,
   "metadata": {
    "application/vnd.databricks.v1+cell": {
     "cellMetadata": {},
     "inputWidgets": {},
     "nuid": "8da31ec0-ab98-411f-9639-29036f51e016",
     "showTitle": false,
     "tableResultSettingsMap": {},
     "title": ""
    }
   },
   "outputs": [],
   "source": [
    "# File uploaded to /FileStore/DE_Assignment/subscription_information.csv\n",
    "# File uploaded to /FileStore/DE_Assignment/payment_information.csv\n",
    "# File uploaded to /FileStore/DE_Assignment/industry_client_details.csv\n",
    "# File uploaded to /FileStore/DE_Assignment/finanical_information.csv"
   ]
  },
  {
   "cell_type": "code",
   "execution_count": 0,
   "metadata": {
    "application/vnd.databricks.v1+cell": {
     "cellMetadata": {
      "byteLimit": 2048000,
      "rowLimit": 10000
     },
     "inputWidgets": {},
     "nuid": "e91e4d92-6759-49a0-8055-b1e3d9dc63ab",
     "showTitle": false,
     "tableResultSettingsMap": {},
     "title": ""
    }
   },
   "outputs": [
    {
     "output_type": "display_data",
     "data": {
      "text/html": [
       "<style scoped>\n",
       "  .table-result-container {\n",
       "    max-height: 300px;\n",
       "    overflow: auto;\n",
       "  }\n",
       "  table, th, td {\n",
       "    border: 1px solid black;\n",
       "    border-collapse: collapse;\n",
       "  }\n",
       "  th, td {\n",
       "    padding: 5px;\n",
       "  }\n",
       "  th {\n",
       "    text-align: left;\n",
       "  }\n",
       "</style><div class='table-result-container'><table class='table-result'><thead style='background-color: white'><tr><th>client_id</th><th>payment_date</th><th>amount_paid</th><th>payment_method</th></tr></thead><tbody><tr><td>6292156167</td><td>9/16/2019</td><td>447</td><td>Bank Transfer</td></tr><tr><td>7462725203</td><td>5/21/2018</td><td>379.7</td><td>Bank Transfer</td></tr><tr><td>4698004907</td><td>9/11/2021</td><td>435.1</td><td>Check</td></tr><tr><td>3510240337</td><td>12/7/2020</td><td>413.1</td><td>Check</td></tr><tr><td>7501599785</td><td>3/4/2019</td><td>61.1</td><td>Bank Transfer</td></tr><tr><td>8719792472</td><td>2/10/2018</td><td>73.8</td><td>Credit Card</td></tr><tr><td>3325348894</td><td>7/9/2019</td><td>348.1</td><td>Credit Card</td></tr><tr><td>9031632460</td><td>7/6/2019</td><td>222.9</td><td>Check</td></tr><tr><td>5319487809</td><td>3/2/2019</td><td>90.7</td><td>Bank Transfer</td></tr><tr><td>4280387012</td><td>11/25/2022</td><td>77.1</td><td>Check</td></tr><tr><td>3891000577</td><td>8/16/2020</td><td>241.2</td><td>Bank Transfer</td></tr><tr><td>5396477027</td><td>2/13/2021</td><td>494.6</td><td>Check</td></tr><tr><td>1089413096</td><td>4/21/2019</td><td>453.6</td><td>Credit Card</td></tr><tr><td>5536015034</td><td>11/15/2019</td><td>65.4</td><td>Credit Card</td></tr><tr><td>7513745319</td><td>9/17/2020</td><td>284.5</td><td>Credit Card</td></tr><tr><td>3878940490</td><td>5/23/2018</td><td>489.4</td><td>Bank Transfer</td></tr><tr><td>6128700542</td><td>10/11/2019</td><td>490.7</td><td>Check</td></tr><tr><td>3183675157</td><td>12/25/2021</td><td>261.1</td><td>Bank Transfer</td></tr><tr><td>2486393352</td><td>12/2/2021</td><td>108.5</td><td>Bank Transfer</td></tr><tr><td>3683504527</td><td>4/12/2018</td><td>202.4</td><td>Check</td></tr><tr><td>4343385571</td><td>11/28/2018</td><td>216.6</td><td>Check</td></tr><tr><td>5421990790</td><td>7/10/2018</td><td>68.1</td><td>Check</td></tr><tr><td>9626357024</td><td>9/25/2022</td><td>275.5</td><td>Check</td></tr><tr><td>4387541014</td><td>11/8/2018</td><td>322.4</td><td>Bank Transfer</td></tr><tr><td>2095513148</td><td>11/3/2021</td><td>470.8</td><td>Check</td></tr><tr><td>7207890733</td><td>9/19/2020</td><td>209</td><td>Bank Transfer</td></tr><tr><td>2282502805</td><td>6/4/2021</td><td>69.6</td><td>Credit Card</td></tr><tr><td>6102589964</td><td>12/30/2019</td><td>425.7</td><td>Credit Card</td></tr><tr><td>4687291312</td><td>6/14/2019</td><td>184.2</td><td>Bank Transfer</td></tr><tr><td>2609337231</td><td>11/4/2020</td><td>415.9</td><td>Check</td></tr><tr><td>9329180414</td><td>6/3/2021</td><td>208.7</td><td>Credit Card</td></tr><tr><td>4361672518</td><td>1/24/2019</td><td>466.4</td><td>Bank Transfer</td></tr><tr><td>4475229416</td><td>5/1/2019</td><td>410.2</td><td>Check</td></tr><tr><td>2315920532</td><td>4/1/2019</td><td>191.1</td><td>Bank Transfer</td></tr><tr><td>5762095219</td><td>6/2/2021</td><td>365.6</td><td>Check</td></tr><tr><td>6774252233</td><td>12/12/2018</td><td>402.6</td><td>Bank Transfer</td></tr><tr><td>8540187780</td><td>2/16/2021</td><td>300.7</td><td>Bank Transfer</td></tr><tr><td>2623363792</td><td>6/28/2021</td><td>197.4</td><td>Bank Transfer</td></tr><tr><td>3411013676</td><td>12/20/2022</td><td>88.6</td><td>Check</td></tr><tr><td>5983139564</td><td>3/29/2020</td><td>120.7</td><td>Bank Transfer</td></tr><tr><td>2083869816</td><td>5/16/2019</td><td>386.8</td><td>Credit Card</td></tr><tr><td>3185596104</td><td>11/14/2022</td><td>196.5</td><td>Bank Transfer</td></tr><tr><td>7776577102</td><td>12/17/2020</td><td>286</td><td>Credit Card</td></tr><tr><td>9166568761</td><td>8/14/2020</td><td>139.7</td><td>Credit Card</td></tr><tr><td>4309371709</td><td>5/24/2021</td><td>368.4</td><td>Check</td></tr><tr><td>6955217420</td><td>7/7/2019</td><td>373.7</td><td>Bank Transfer</td></tr><tr><td>3034831019</td><td>7/28/2022</td><td>251.9</td><td>Check</td></tr><tr><td>9714663815</td><td>11/11/2020</td><td>371.1</td><td>Credit Card</td></tr><tr><td>8093537819</td><td>9/14/2019</td><td>207.3</td><td>Credit Card</td></tr><tr><td>5387264885</td><td>3/6/2022</td><td>374.5</td><td>Credit Card</td></tr><tr><td>7896208406</td><td>2/24/2022</td><td>291</td><td>Credit Card</td></tr><tr><td>7925430606</td><td>8/29/2022</td><td>407.6</td><td>Bank Transfer</td></tr><tr><td>9699223737</td><td>4/3/2018</td><td>240.9</td><td>Bank Transfer</td></tr><tr><td>9038553168</td><td>5/24/2019</td><td>467.4</td><td>Check</td></tr><tr><td>5481743788</td><td>4/3/2020</td><td>289.2</td><td>Credit Card</td></tr><tr><td>5059906722</td><td>12/14/2018</td><td>235.7</td><td>Bank Transfer</td></tr><tr><td>4194777577</td><td>12/18/2021</td><td>196.4</td><td>Bank Transfer</td></tr><tr><td>8207710174</td><td>12/19/2018</td><td>216.7</td><td>Check</td></tr><tr><td>1731644238</td><td>7/26/2021</td><td>249.5</td><td>Bank Transfer</td></tr><tr><td>6751372012</td><td>5/29/2018</td><td>465</td><td>Bank Transfer</td></tr><tr><td>6366816003</td><td>2/17/2022</td><td>198.5</td><td>Credit Card</td></tr><tr><td>5366653014</td><td>11/13/2020</td><td>160.4</td><td>Check</td></tr><tr><td>8884551090</td><td>9/2/2022</td><td>285</td><td>Check</td></tr><tr><td>1077708772</td><td>7/6/2019</td><td>417</td><td>Credit Card</td></tr><tr><td>2096479553</td><td>1/25/2020</td><td>186.7</td><td>Check</td></tr><tr><td>6209923307</td><td>7/5/2021</td><td>410.6</td><td>Bank Transfer</td></tr><tr><td>5443254615</td><td>6/25/2020</td><td>433.5</td><td>Check</td></tr><tr><td>9842414729</td><td>11/11/2022</td><td>308.7</td><td>Credit Card</td></tr><tr><td>6827368515</td><td>6/3/2018</td><td>190.9</td><td>Bank Transfer</td></tr><tr><td>8351222782</td><td>2/14/2022</td><td>97.1</td><td>Bank Transfer</td></tr><tr><td>6677954339</td><td>1/1/2022</td><td>343.7</td><td>Credit Card</td></tr><tr><td>7744303708</td><td>10/11/2022</td><td>461.5</td><td>Bank Transfer</td></tr><tr><td>2490056820</td><td>4/4/2020</td><td>81</td><td>Credit Card</td></tr><tr><td>5217987067</td><td>7/19/2019</td><td>227.8</td><td>Check</td></tr><tr><td>4519356806</td><td>3/4/2018</td><td>116.9</td><td>Bank Transfer</td></tr><tr><td>1131383004</td><td>11/11/2020</td><td>446</td><td>Credit Card</td></tr><tr><td>3758633299</td><td>4/24/2021</td><td>388.5</td><td>Bank Transfer</td></tr><tr><td>6296057401</td><td>7/21/2018</td><td>384.5</td><td>Credit Card</td></tr><tr><td>9598980006</td><td>6/16/2019</td><td>77.4</td><td>Bank Transfer</td></tr><tr><td>9085185732</td><td>5/18/2018</td><td>463.4</td><td>Check</td></tr><tr><td>6597925149</td><td>12/29/2019</td><td>118</td><td>Bank Transfer</td></tr><tr><td>8004867726</td><td>6/16/2019</td><td>205.4</td><td>Check</td></tr><tr><td>1298566280</td><td>9/1/2019</td><td>480.3</td><td>Credit Card</td></tr><tr><td>3146624321</td><td>4/9/2022</td><td>460.8</td><td>Credit Card</td></tr><tr><td>5157113076</td><td>11/7/2019</td><td>416.7</td><td>Check</td></tr><tr><td>1629048404</td><td>2/23/2021</td><td>181.1</td><td>Credit Card</td></tr><tr><td>4760390973</td><td>1/6/2022</td><td>343</td><td>Check</td></tr><tr><td>7225516707</td><td>1/19/2021</td><td>315.7</td><td>Bank Transfer</td></tr><tr><td>6983985081</td><td>11/15/2021</td><td>493.1</td><td>Check</td></tr><tr><td>5980553707</td><td>8/30/2021</td><td>312.9</td><td>Credit Card</td></tr><tr><td>5371694837</td><td>3/14/2020</td><td>424.2</td><td>Bank Transfer</td></tr><tr><td>6038028440</td><td>12/3/2018</td><td>91</td><td>Bank Transfer</td></tr><tr><td>3157098196</td><td>11/11/2021</td><td>107.7</td><td>Bank Transfer</td></tr><tr><td>5698091148</td><td>8/4/2020</td><td>302.1</td><td>Credit Card</td></tr><tr><td>3785313879</td><td>6/6/2022</td><td>93.8</td><td>Bank Transfer</td></tr><tr><td>8155233099</td><td>6/3/2020</td><td>265.9</td><td>Credit Card</td></tr><tr><td>9752784850</td><td>9/15/2021</td><td>286.8</td><td>Credit Card</td></tr><tr><td>8988409533</td><td>5/15/2020</td><td>163.2</td><td>Credit Card</td></tr><tr><td>7465144773</td><td>9/7/2021</td><td>434.6</td><td>Check</td></tr><tr><td>9159056053</td><td>5/28/2022</td><td>486.4</td><td>Check</td></tr></tbody></table></div>"
      ]
     },
     "metadata": {
      "application/vnd.databricks.v1+output": {
       "addedWidgets": {},
       "aggData": [],
       "aggError": "",
       "aggOverflow": false,
       "aggSchema": [],
       "aggSeriesLimitReached": false,
       "aggType": "",
       "arguments": {},
       "columnCustomDisplayInfos": {},
       "data": [
        [
         "6292156167",
         "9/16/2019",
         "447",
         "Bank Transfer"
        ],
        [
         "7462725203",
         "5/21/2018",
         "379.7",
         "Bank Transfer"
        ],
        [
         "4698004907",
         "9/11/2021",
         "435.1",
         "Check"
        ],
        [
         "3510240337",
         "12/7/2020",
         "413.1",
         "Check"
        ],
        [
         "7501599785",
         "3/4/2019",
         "61.1",
         "Bank Transfer"
        ],
        [
         "8719792472",
         "2/10/2018",
         "73.8",
         "Credit Card"
        ],
        [
         "3325348894",
         "7/9/2019",
         "348.1",
         "Credit Card"
        ],
        [
         "9031632460",
         "7/6/2019",
         "222.9",
         "Check"
        ],
        [
         "5319487809",
         "3/2/2019",
         "90.7",
         "Bank Transfer"
        ],
        [
         "4280387012",
         "11/25/2022",
         "77.1",
         "Check"
        ],
        [
         "3891000577",
         "8/16/2020",
         "241.2",
         "Bank Transfer"
        ],
        [
         "5396477027",
         "2/13/2021",
         "494.6",
         "Check"
        ],
        [
         "1089413096",
         "4/21/2019",
         "453.6",
         "Credit Card"
        ],
        [
         "5536015034",
         "11/15/2019",
         "65.4",
         "Credit Card"
        ],
        [
         "7513745319",
         "9/17/2020",
         "284.5",
         "Credit Card"
        ],
        [
         "3878940490",
         "5/23/2018",
         "489.4",
         "Bank Transfer"
        ],
        [
         "6128700542",
         "10/11/2019",
         "490.7",
         "Check"
        ],
        [
         "3183675157",
         "12/25/2021",
         "261.1",
         "Bank Transfer"
        ],
        [
         "2486393352",
         "12/2/2021",
         "108.5",
         "Bank Transfer"
        ],
        [
         "3683504527",
         "4/12/2018",
         "202.4",
         "Check"
        ],
        [
         "4343385571",
         "11/28/2018",
         "216.6",
         "Check"
        ],
        [
         "5421990790",
         "7/10/2018",
         "68.1",
         "Check"
        ],
        [
         "9626357024",
         "9/25/2022",
         "275.5",
         "Check"
        ],
        [
         "4387541014",
         "11/8/2018",
         "322.4",
         "Bank Transfer"
        ],
        [
         "2095513148",
         "11/3/2021",
         "470.8",
         "Check"
        ],
        [
         "7207890733",
         "9/19/2020",
         "209",
         "Bank Transfer"
        ],
        [
         "2282502805",
         "6/4/2021",
         "69.6",
         "Credit Card"
        ],
        [
         "6102589964",
         "12/30/2019",
         "425.7",
         "Credit Card"
        ],
        [
         "4687291312",
         "6/14/2019",
         "184.2",
         "Bank Transfer"
        ],
        [
         "2609337231",
         "11/4/2020",
         "415.9",
         "Check"
        ],
        [
         "9329180414",
         "6/3/2021",
         "208.7",
         "Credit Card"
        ],
        [
         "4361672518",
         "1/24/2019",
         "466.4",
         "Bank Transfer"
        ],
        [
         "4475229416",
         "5/1/2019",
         "410.2",
         "Check"
        ],
        [
         "2315920532",
         "4/1/2019",
         "191.1",
         "Bank Transfer"
        ],
        [
         "5762095219",
         "6/2/2021",
         "365.6",
         "Check"
        ],
        [
         "6774252233",
         "12/12/2018",
         "402.6",
         "Bank Transfer"
        ],
        [
         "8540187780",
         "2/16/2021",
         "300.7",
         "Bank Transfer"
        ],
        [
         "2623363792",
         "6/28/2021",
         "197.4",
         "Bank Transfer"
        ],
        [
         "3411013676",
         "12/20/2022",
         "88.6",
         "Check"
        ],
        [
         "5983139564",
         "3/29/2020",
         "120.7",
         "Bank Transfer"
        ],
        [
         "2083869816",
         "5/16/2019",
         "386.8",
         "Credit Card"
        ],
        [
         "3185596104",
         "11/14/2022",
         "196.5",
         "Bank Transfer"
        ],
        [
         "7776577102",
         "12/17/2020",
         "286",
         "Credit Card"
        ],
        [
         "9166568761",
         "8/14/2020",
         "139.7",
         "Credit Card"
        ],
        [
         "4309371709",
         "5/24/2021",
         "368.4",
         "Check"
        ],
        [
         "6955217420",
         "7/7/2019",
         "373.7",
         "Bank Transfer"
        ],
        [
         "3034831019",
         "7/28/2022",
         "251.9",
         "Check"
        ],
        [
         "9714663815",
         "11/11/2020",
         "371.1",
         "Credit Card"
        ],
        [
         "8093537819",
         "9/14/2019",
         "207.3",
         "Credit Card"
        ],
        [
         "5387264885",
         "3/6/2022",
         "374.5",
         "Credit Card"
        ],
        [
         "7896208406",
         "2/24/2022",
         "291",
         "Credit Card"
        ],
        [
         "7925430606",
         "8/29/2022",
         "407.6",
         "Bank Transfer"
        ],
        [
         "9699223737",
         "4/3/2018",
         "240.9",
         "Bank Transfer"
        ],
        [
         "9038553168",
         "5/24/2019",
         "467.4",
         "Check"
        ],
        [
         "5481743788",
         "4/3/2020",
         "289.2",
         "Credit Card"
        ],
        [
         "5059906722",
         "12/14/2018",
         "235.7",
         "Bank Transfer"
        ],
        [
         "4194777577",
         "12/18/2021",
         "196.4",
         "Bank Transfer"
        ],
        [
         "8207710174",
         "12/19/2018",
         "216.7",
         "Check"
        ],
        [
         "1731644238",
         "7/26/2021",
         "249.5",
         "Bank Transfer"
        ],
        [
         "6751372012",
         "5/29/2018",
         "465",
         "Bank Transfer"
        ],
        [
         "6366816003",
         "2/17/2022",
         "198.5",
         "Credit Card"
        ],
        [
         "5366653014",
         "11/13/2020",
         "160.4",
         "Check"
        ],
        [
         "8884551090",
         "9/2/2022",
         "285",
         "Check"
        ],
        [
         "1077708772",
         "7/6/2019",
         "417",
         "Credit Card"
        ],
        [
         "2096479553",
         "1/25/2020",
         "186.7",
         "Check"
        ],
        [
         "6209923307",
         "7/5/2021",
         "410.6",
         "Bank Transfer"
        ],
        [
         "5443254615",
         "6/25/2020",
         "433.5",
         "Check"
        ],
        [
         "9842414729",
         "11/11/2022",
         "308.7",
         "Credit Card"
        ],
        [
         "6827368515",
         "6/3/2018",
         "190.9",
         "Bank Transfer"
        ],
        [
         "8351222782",
         "2/14/2022",
         "97.1",
         "Bank Transfer"
        ],
        [
         "6677954339",
         "1/1/2022",
         "343.7",
         "Credit Card"
        ],
        [
         "7744303708",
         "10/11/2022",
         "461.5",
         "Bank Transfer"
        ],
        [
         "2490056820",
         "4/4/2020",
         "81",
         "Credit Card"
        ],
        [
         "5217987067",
         "7/19/2019",
         "227.8",
         "Check"
        ],
        [
         "4519356806",
         "3/4/2018",
         "116.9",
         "Bank Transfer"
        ],
        [
         "1131383004",
         "11/11/2020",
         "446",
         "Credit Card"
        ],
        [
         "3758633299",
         "4/24/2021",
         "388.5",
         "Bank Transfer"
        ],
        [
         "6296057401",
         "7/21/2018",
         "384.5",
         "Credit Card"
        ],
        [
         "9598980006",
         "6/16/2019",
         "77.4",
         "Bank Transfer"
        ],
        [
         "9085185732",
         "5/18/2018",
         "463.4",
         "Check"
        ],
        [
         "6597925149",
         "12/29/2019",
         "118",
         "Bank Transfer"
        ],
        [
         "8004867726",
         "6/16/2019",
         "205.4",
         "Check"
        ],
        [
         "1298566280",
         "9/1/2019",
         "480.3",
         "Credit Card"
        ],
        [
         "3146624321",
         "4/9/2022",
         "460.8",
         "Credit Card"
        ],
        [
         "5157113076",
         "11/7/2019",
         "416.7",
         "Check"
        ],
        [
         "1629048404",
         "2/23/2021",
         "181.1",
         "Credit Card"
        ],
        [
         "4760390973",
         "1/6/2022",
         "343",
         "Check"
        ],
        [
         "7225516707",
         "1/19/2021",
         "315.7",
         "Bank Transfer"
        ],
        [
         "6983985081",
         "11/15/2021",
         "493.1",
         "Check"
        ],
        [
         "5980553707",
         "8/30/2021",
         "312.9",
         "Credit Card"
        ],
        [
         "5371694837",
         "3/14/2020",
         "424.2",
         "Bank Transfer"
        ],
        [
         "6038028440",
         "12/3/2018",
         "91",
         "Bank Transfer"
        ],
        [
         "3157098196",
         "11/11/2021",
         "107.7",
         "Bank Transfer"
        ],
        [
         "5698091148",
         "8/4/2020",
         "302.1",
         "Credit Card"
        ],
        [
         "3785313879",
         "6/6/2022",
         "93.8",
         "Bank Transfer"
        ],
        [
         "8155233099",
         "6/3/2020",
         "265.9",
         "Credit Card"
        ],
        [
         "9752784850",
         "9/15/2021",
         "286.8",
         "Credit Card"
        ],
        [
         "8988409533",
         "5/15/2020",
         "163.2",
         "Credit Card"
        ],
        [
         "7465144773",
         "9/7/2021",
         "434.6",
         "Check"
        ],
        [
         "9159056053",
         "5/28/2022",
         "486.4",
         "Check"
        ]
       ],
       "datasetInfos": [],
       "dbfsResultPath": null,
       "isJsonSchema": true,
       "metadata": {},
       "overflow": false,
       "plotOptions": {
        "customPlotOptions": {},
        "displayType": "table",
        "pivotAggregation": null,
        "pivotColumns": null,
        "xColumns": null,
        "yColumns": null
       },
       "removedWidgets": [],
       "schema": [
        {
         "metadata": "{}",
         "name": "client_id",
         "type": "\"string\""
        },
        {
         "metadata": "{}",
         "name": "payment_date",
         "type": "\"string\""
        },
        {
         "metadata": "{}",
         "name": "amount_paid",
         "type": "\"string\""
        },
        {
         "metadata": "{}",
         "name": "payment_method",
         "type": "\"string\""
        }
       ],
       "type": "table"
      }
     },
     "output_type": "display_data"
    }
   ],
   "source": [
    "df_sub = spark.read.csv('/FileStore/DE_Assignment/subscription_information.csv', header = True)\n",
    "df_pay = spark.read.csv('/FileStore/DE_Assignment/payment_information.csv', header = True)\n",
    "df_client = spark.read.csv('/FileStore/DE_Assignment/industry_client_details.csv', header = True)\n",
    "df_fin = spark.read.csv('/FileStore/DE_Assignment/finanical_information.csv', header = True)\n",
    "\n",
    "# Example display\n",
    "df_pay.display()"
   ]
  },
  {
   "cell_type": "markdown",
   "metadata": {
    "application/vnd.databricks.v1+cell": {
     "cellMetadata": {},
     "inputWidgets": {},
     "nuid": "66b6151d-522d-42c0-854c-49c541072fef",
     "showTitle": false,
     "tableResultSettingsMap": {},
     "title": ""
    }
   },
   "source": [
    "### Questions\n",
    "1. How many finance lending and blockchain clients does the organization have?\n",
    "2. Which industry in the organization has the highest renewal rate?\n",
    "3. What was the average inflation rate when their subscriptions were renewed?\n",
    "4. What is the median amount paid each year for all payment methods? \n"
   ]
  },
  {
   "cell_type": "markdown",
   "metadata": {
    "application/vnd.databricks.v1+cell": {
     "cellMetadata": {},
     "inputWidgets": {},
     "nuid": "192904ca-ca10-4ddf-9555-8d252358be99",
     "showTitle": false,
     "tableResultSettingsMap": {},
     "title": ""
    }
   },
   "source": [
    "### 1st Solution"
   ]
  },
  {
   "cell_type": "code",
   "execution_count": 0,
   "metadata": {
    "application/vnd.databricks.v1+cell": {
     "cellMetadata": {
      "byteLimit": 2048000,
      "rowLimit": 10000
     },
     "inputWidgets": {},
     "nuid": "2cd6c611-2ec7-4cf1-bd85-31e25ac93be3",
     "showTitle": false,
     "tableResultSettingsMap": {},
     "title": ""
    }
   },
   "outputs": [
    {
     "output_type": "stream",
     "name": "stdout",
     "output_type": "stream",
     "text": [
      "Number of finance lending and blockchain clients in the organization -  47\n"
     ]
    }
   ],
   "source": [
    "from pyspark.sql.functions import col\n",
    "\n",
    "# Counting the rows where the condion matches for Industry column\n",
    "df1 = df_client.filter((col('Industry') == 'Finance Lending') | (col('Industry') == 'Block Chain'))\n",
    "print('Number of finance lending and blockchain clients in the organization - ',df1.count())"
   ]
  },
  {
   "cell_type": "markdown",
   "metadata": {
    "application/vnd.databricks.v1+cell": {
     "cellMetadata": {},
     "inputWidgets": {},
     "nuid": "10530838-c32c-4d1c-83a1-3641353fc45c",
     "showTitle": false,
     "tableResultSettingsMap": {},
     "title": ""
    }
   },
   "source": [
    "### 2nd Solution"
   ]
  },
  {
   "cell_type": "code",
   "execution_count": 0,
   "metadata": {
    "application/vnd.databricks.v1+cell": {
     "cellMetadata": {
      "byteLimit": 2048000,
      "rowLimit": 10000
     },
     "inputWidgets": {},
     "nuid": "b507d1e1-cfa3-4748-b9e2-0c2bb125acbf",
     "showTitle": false,
     "tableResultSettingsMap": {},
     "title": ""
    }
   },
   "outputs": [
    {
     "output_type": "display_data",
     "data": {
      "text/html": [
       "<style scoped>\n",
       "  .table-result-container {\n",
       "    max-height: 300px;\n",
       "    overflow: auto;\n",
       "  }\n",
       "  table, th, td {\n",
       "    border: 1px solid black;\n",
       "    border-collapse: collapse;\n",
       "  }\n",
       "  th, td {\n",
       "    padding: 5px;\n",
       "  }\n",
       "  th {\n",
       "    text-align: left;\n",
       "  }\n",
       "</style><div class='table-result-container'><table class='table-result'><thead style='background-color: white'><tr><th>industry</th><th>renewal_rate</th></tr></thead><tbody><tr><td>Gaming</td><td>72.73</td></tr></tbody></table></div>"
      ]
     },
     "metadata": {
      "application/vnd.databricks.v1+output": {
       "addedWidgets": {},
       "aggData": [],
       "aggError": "",
       "aggOverflow": false,
       "aggSchema": [],
       "aggSeriesLimitReached": false,
       "aggType": "",
       "arguments": {},
       "columnCustomDisplayInfos": {},
       "data": [
        [
         "Gaming",
         72.73
        ]
       ],
       "datasetInfos": [],
       "dbfsResultPath": null,
       "isJsonSchema": true,
       "metadata": {},
       "overflow": false,
       "plotOptions": {
        "customPlotOptions": {},
        "displayType": "table",
        "pivotAggregation": null,
        "pivotColumns": null,
        "xColumns": null,
        "yColumns": null
       },
       "removedWidgets": [],
       "schema": [
        {
         "metadata": "{}",
         "name": "industry",
         "type": "\"string\""
        },
        {
         "metadata": "{}",
         "name": "renewal_rate",
         "type": "\"double\""
        }
       ],
       "type": "table"
      }
     },
     "output_type": "display_data"
    }
   ],
   "source": [
    "from pyspark.sql.functions import when, lit, sum, count, round\n",
    "\n",
    "df2 = df_client.join(df_sub,on=\"client_id\" ,how ='inner') #joining the dataframes to get indo on renewal\n",
    "df2 = df2.select('client_id', 'industry', 'renewed') #selecting only required columns\n",
    "df2 = df2.groupBy('industry').agg(sum(when((col('renewed') == 'True'), lit(1)).otherwise(lit(0))).alias('renew_count'), count(col('renewed')).alias('total_subs')) # counting the clients who have renewed out of all in the respective industry\n",
    "df2 = df2.select('industry', round(100*col('renew_count')/col('total_subs'),2).alias('renewal_rate')) # getting the percent of renews\n",
    "df2 = df2.orderBy(col('renewal_rate'), ascending = False).limit(1) # getting the highest renewal rate limiting to first row\n",
    "df2.display() #Highest Renewal Rate\n"
   ]
  },
  {
   "cell_type": "markdown",
   "metadata": {
    "application/vnd.databricks.v1+cell": {
     "cellMetadata": {},
     "inputWidgets": {},
     "nuid": "c9d5ee88-5a47-4c16-8bce-43e195831932",
     "showTitle": false,
     "tableResultSettingsMap": {},
     "title": ""
    }
   },
   "source": [
    "### 3rd Solution"
   ]
  },
  {
   "cell_type": "code",
   "execution_count": 0,
   "metadata": {
    "application/vnd.databricks.v1+cell": {
     "cellMetadata": {
      "byteLimit": 2048000,
      "rowLimit": 10000
     },
     "inputWidgets": {},
     "nuid": "72d94128-2944-44be-b6dd-bc2f37b30e2f",
     "showTitle": false,
     "tableResultSettingsMap": {},
     "title": ""
    }
   },
   "outputs": [
    {
     "output_type": "display_data",
     "data": {
      "text/html": [
       "<style scoped>\n",
       "  .table-result-container {\n",
       "    max-height: 300px;\n",
       "    overflow: auto;\n",
       "  }\n",
       "  table, th, td {\n",
       "    border: 1px solid black;\n",
       "    border-collapse: collapse;\n",
       "  }\n",
       "  th, td {\n",
       "    padding: 5px;\n",
       "  }\n",
       "  th {\n",
       "    text-align: left;\n",
       "  }\n",
       "</style><div class='table-result-container'><table class='table-result'><thead style='background-color: white'><tr><th>industry</th><th>avg_infaltion</th></tr></thead><tbody><tr><td>Gaming</td><td>4.59</td></tr><tr><td>Hyper Local</td><td>4.0</td></tr><tr><td>Finance Lending</td><td>4.19</td></tr><tr><td>AI</td><td>4.94</td></tr><tr><td>Block Chain</td><td>4.57</td></tr></tbody></table></div>"
      ]
     },
     "metadata": {
      "application/vnd.databricks.v1+output": {
       "addedWidgets": {},
       "aggData": [],
       "aggError": "",
       "aggOverflow": false,
       "aggSchema": [],
       "aggSeriesLimitReached": false,
       "aggType": "",
       "arguments": {},
       "columnCustomDisplayInfos": {},
       "data": [
        [
         "Gaming",
         4.59
        ],
        [
         "Hyper Local",
         4.0
        ],
        [
         "Finance Lending",
         4.19
        ],
        [
         "AI",
         4.94
        ],
        [
         "Block Chain",
         4.57
        ]
       ],
       "datasetInfos": [],
       "dbfsResultPath": null,
       "isJsonSchema": true,
       "metadata": {},
       "overflow": false,
       "plotOptions": {
        "customPlotOptions": {},
        "displayType": "table",
        "pivotAggregation": null,
        "pivotColumns": null,
        "xColumns": null,
        "yColumns": null
       },
       "removedWidgets": [],
       "schema": [
        {
         "metadata": "{}",
         "name": "industry",
         "type": "\"string\""
        },
        {
         "metadata": "{}",
         "name": "avg_infaltion",
         "type": "\"double\""
        }
       ],
       "type": "table"
      }
     },
     "output_type": "display_data"
    }
   ],
   "source": [
    "from pyspark.sql.functions import avg\n",
    "\n",
    "df3 = df_client.join(df_sub,on=\"client_id\" ,how ='inner') # Joining the two dataframes to get additional columns\n",
    "df3 = df3.select('client_id', 'industry', 'renewed', 'start_date')\n",
    "df3 = df3.join(df_fin, on = (df3.start_date >= df_fin.start_date) & (df3.start_date <= df_fin.end_date), how = 'inner') # Joining the dataframe to get additional column on the condition of when the renew date is between a specific start_date and end-date of inflation period\n",
    "df3 = df3.filter(col('renewed') == 'True').select('client_id', 'industry', 'renewed', 'inflation_rate') # filtering the data to check for only renewed clients\n",
    "df3 = df3.groupBy('industry').agg(round(avg(col('inflation_rate')),2).alias('avg_infaltion')) #calculating the average inflation at the renew date\n",
    "df3.display()"
   ]
  },
  {
   "cell_type": "markdown",
   "metadata": {
    "application/vnd.databricks.v1+cell": {
     "cellMetadata": {},
     "inputWidgets": {},
     "nuid": "7902ceac-0114-4a98-b7b6-e75184669c89",
     "showTitle": false,
     "tableResultSettingsMap": {},
     "title": ""
    }
   },
   "source": [
    "### 4th Solution"
   ]
  },
  {
   "cell_type": "code",
   "execution_count": 0,
   "metadata": {
    "application/vnd.databricks.v1+cell": {
     "cellMetadata": {
      "byteLimit": 2048000,
      "rowLimit": 10000
     },
     "inputWidgets": {},
     "nuid": "a5d09a1b-1730-453b-95a8-ce635c6bf2ca",
     "showTitle": false,
     "tableResultSettingsMap": {},
     "title": ""
    }
   },
   "outputs": [
    {
     "output_type": "display_data",
     "data": {
      "text/html": [
       "<style scoped>\n",
       "  .table-result-container {\n",
       "    max-height: 300px;\n",
       "    overflow: auto;\n",
       "  }\n",
       "  table, th, td {\n",
       "    border: 1px solid black;\n",
       "    border-collapse: collapse;\n",
       "  }\n",
       "  th, td {\n",
       "    padding: 5px;\n",
       "  }\n",
       "  th {\n",
       "    text-align: left;\n",
       "  }\n",
       "</style><div class='table-result-container'><table class='table-result'><thead style='background-color: white'><tr><th>payment_method</th><th>year</th><th>median_amt_paid</th></tr></thead><tbody><tr><td>Credit Card</td><td>2019</td><td>401.9</td></tr><tr><td>Credit Card</td><td>2020</td><td>285.25</td></tr><tr><td>Bank Transfer</td><td>2020</td><td>225.1</td></tr><tr><td>Check</td><td>2022</td><td>275.5</td></tr><tr><td>Credit Card</td><td>2021</td><td>208.7</td></tr><tr><td>Bank Transfer</td><td>2019</td><td>184.2</td></tr><tr><td>Credit Card</td><td>2018</td><td>229.15</td></tr><tr><td>Bank Transfer</td><td>2018</td><td>281.65</td></tr><tr><td>Check</td><td>2018</td><td>216.6</td></tr><tr><td>Check</td><td>2019</td><td>410.2</td></tr><tr><td>Check</td><td>2020</td><td>413.1</td></tr><tr><td>Check</td><td>2021</td><td>435.1</td></tr><tr><td>Credit Card</td><td>2022</td><td>326.2</td></tr><tr><td>Bank Transfer</td><td>2022</td><td>196.5</td></tr><tr><td>Bank Transfer</td><td>2021</td><td>255.3</td></tr></tbody></table></div>"
      ]
     },
     "metadata": {
      "application/vnd.databricks.v1+output": {
       "addedWidgets": {},
       "aggData": [],
       "aggError": "",
       "aggOverflow": false,
       "aggSchema": [],
       "aggSeriesLimitReached": false,
       "aggType": "",
       "arguments": {},
       "columnCustomDisplayInfos": {},
       "data": [
        [
         "Credit Card",
         "2019",
         401.9
        ],
        [
         "Credit Card",
         "2020",
         285.25
        ],
        [
         "Bank Transfer",
         "2020",
         225.1
        ],
        [
         "Check",
         "2022",
         275.5
        ],
        [
         "Credit Card",
         "2021",
         208.7
        ],
        [
         "Bank Transfer",
         "2019",
         184.2
        ],
        [
         "Credit Card",
         "2018",
         229.15
        ],
        [
         "Bank Transfer",
         "2018",
         281.65
        ],
        [
         "Check",
         "2018",
         216.6
        ],
        [
         "Check",
         "2019",
         410.2
        ],
        [
         "Check",
         "2020",
         413.1
        ],
        [
         "Check",
         "2021",
         435.1
        ],
        [
         "Credit Card",
         "2022",
         326.2
        ],
        [
         "Bank Transfer",
         "2022",
         196.5
        ],
        [
         "Bank Transfer",
         "2021",
         255.3
        ]
       ],
       "datasetInfos": [],
       "dbfsResultPath": null,
       "isJsonSchema": true,
       "metadata": {},
       "overflow": false,
       "plotOptions": {
        "customPlotOptions": {},
        "displayType": "table",
        "pivotAggregation": null,
        "pivotColumns": null,
        "xColumns": null,
        "yColumns": null
       },
       "removedWidgets": [],
       "schema": [
        {
         "metadata": "{}",
         "name": "payment_method",
         "type": "\"string\""
        },
        {
         "metadata": "{}",
         "name": "year",
         "type": "\"string\""
        },
        {
         "metadata": "{}",
         "name": "median_amt_paid",
         "type": "\"double\""
        }
       ],
       "type": "table"
      }
     },
     "output_type": "display_data"
    }
   ],
   "source": [
    "from pyspark.sql.functions import substring, median\n",
    "\n",
    "df4 = df_pay.withColumn('year', substring(col('payment_date'), -4, 4)) # extracting year from the date for calculations\n",
    "df4 = df4.groupBy('payment_method','year').agg(round(median(col('amount_paid')), 2).alias('median_amt_paid')) #calculating the median of amount paid for each payment method, each year.\n",
    "df4.display()"
   ]
  }
 ],
 "metadata": {
  "application/vnd.databricks.v1+notebook": {
   "computePreferences": null,
   "dashboards": [],
   "environmentMetadata": {
    "base_environment": "",
    "environment_version": "1"
   },
   "inputWidgetPreferences": null,
   "language": "python",
   "notebookMetadata": {
    "pythonIndentUnit": 4
   },
   "notebookName": "DE Assignment",
   "widgets": {}
  }
 },
 "nbformat": 4,
 "nbformat_minor": 0
}